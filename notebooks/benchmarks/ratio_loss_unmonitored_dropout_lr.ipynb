{
 "cells": [
  {
   "cell_type": "code",
   "execution_count": 5,
   "metadata": {},
   "outputs": [],
   "source": [
    "from tresnet.benchmark_utils import benchmarks_from_dir"
   ]
  },
  {
   "cell_type": "code",
   "execution_count": 6,
   "metadata": {},
   "outputs": [
    {
     "name": "stderr",
     "output_type": "stream",
     "text": [
      "Extracting 45 files that look like ihdp/gaussian/000010/ipw_classifier_unmonitored/srf_estimates.csv\n",
      "100%|██████████| 45/45 [00:01<00:00, 37.47it/s]\n"
     ]
    }
   ],
   "source": [
    "tgtdir = \"logs/benchmarks/ratio_loss_monitored_dropout_lr/\"\n",
    "results, metrics = benchmarks_from_dir(tgtdir)"
   ]
  },
  {
   "cell_type": "code",
   "execution_count": 7,
   "metadata": {},
   "outputs": [
    {
     "data": {
      "text/html": [
       "<div>\n",
       "<style scoped>\n",
       "    .dataframe tbody tr th:only-of-type {\n",
       "        vertical-align: middle;\n",
       "    }\n",
       "\n",
       "    .dataframe tbody tr th {\n",
       "        vertical-align: top;\n",
       "    }\n",
       "\n",
       "    .dataframe thead th {\n",
       "        text-align: right;\n",
       "    }\n",
       "</style>\n",
       "<table border=\"1\" class=\"dataframe\">\n",
       "  <thead>\n",
       "    <tr style=\"text-align: right;\">\n",
       "      <th></th>\n",
       "      <th></th>\n",
       "      <th></th>\n",
       "      <th>train_mse</th>\n",
       "      <th>test_mse</th>\n",
       "      <th>train_bias2</th>\n",
       "      <th>test_bias2</th>\n",
       "      <th>train_variance</th>\n",
       "      <th>test_variance</th>\n",
       "    </tr>\n",
       "    <tr>\n",
       "      <th>dataset</th>\n",
       "      <th>family</th>\n",
       "      <th>experiment</th>\n",
       "      <th></th>\n",
       "      <th></th>\n",
       "      <th></th>\n",
       "      <th></th>\n",
       "      <th></th>\n",
       "      <th></th>\n",
       "    </tr>\n",
       "  </thead>\n",
       "  <tbody>\n",
       "    <tr>\n",
       "      <th rowspan=\"2\" valign=\"top\">ihdp</th>\n",
       "      <th>bernoulli</th>\n",
       "      <th>ipw_classifier_unmonitored</th>\n",
       "      <td>0.001378</td>\n",
       "      <td>0.000739</td>\n",
       "      <td>0.001378</td>\n",
       "      <td>0.000739</td>\n",
       "      <td>0.000497</td>\n",
       "      <td>0.002602</td>\n",
       "    </tr>\n",
       "    <tr>\n",
       "      <th>gaussian</th>\n",
       "      <th>ipw_classifier_unmonitored</th>\n",
       "      <td>0.013616</td>\n",
       "      <td>0.012864</td>\n",
       "      <td>0.013616</td>\n",
       "      <td>0.012864</td>\n",
       "      <td>0.004719</td>\n",
       "      <td>0.016592</td>\n",
       "    </tr>\n",
       "  </tbody>\n",
       "</table>\n",
       "</div>"
      ],
      "text/plain": [
       "                                              train_mse  test_mse   \n",
       "dataset family    experiment                                        \n",
       "ihdp    bernoulli ipw_classifier_unmonitored   0.001378  0.000739  \\\n",
       "        gaussian  ipw_classifier_unmonitored   0.013616  0.012864   \n",
       "\n",
       "                                              train_bias2  test_bias2   \n",
       "dataset family    experiment                                            \n",
       "ihdp    bernoulli ipw_classifier_unmonitored     0.001378    0.000739  \\\n",
       "        gaussian  ipw_classifier_unmonitored     0.013616    0.012864   \n",
       "\n",
       "                                              train_variance  test_variance  \n",
       "dataset family    experiment                                                 \n",
       "ihdp    bernoulli ipw_classifier_unmonitored        0.000497       0.002602  \n",
       "        gaussian  ipw_classifier_unmonitored        0.004719       0.016592  "
      ]
     },
     "execution_count": 7,
     "metadata": {},
     "output_type": "execute_result"
    }
   ],
   "source": [
    "metrics"
   ]
  },
  {
   "attachments": {},
   "cell_type": "markdown",
   "metadata": {},
   "source": []
  },
  {
   "cell_type": "code",
   "execution_count": null,
   "metadata": {},
   "outputs": [],
   "source": []
  }
 ],
 "metadata": {
  "kernelspec": {
   "display_name": "tresnet",
   "language": "python",
   "name": "python3"
  },
  "language_info": {
   "codemirror_mode": {
    "name": "ipython",
    "version": 3
   },
   "file_extension": ".py",
   "mimetype": "text/x-python",
   "name": "python",
   "nbconvert_exporter": "python",
   "pygments_lexer": "ipython3",
   "version": "3.10.10"
  },
  "orig_nbformat": 4
 },
 "nbformat": 4,
 "nbformat_minor": 2
}
